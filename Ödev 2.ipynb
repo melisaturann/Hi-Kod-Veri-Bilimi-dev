{
 "cells": [
  {
   "cell_type": "markdown",
   "id": "ff87c8f7",
   "metadata": {},
   "source": [
    "# 1\n",
    "Kullanıcıdan maaş bilgisini isteyelim ve bu bilgiye göre maaşından ne kadar vergi kesileceğini hesaplayalım. (Oluşturulan vergi sistemi hayal ürünüdür :D)\n",
    "Kullanıcının geliri;\n",
    "- 10000 ve altındaysa maaşından %5 kesinti olsun.\n",
    "- 25000 ve altındaysa maaşından %10 kesinti olsun.\n",
    "- 45000 ve altındaysa maaşından %25 kesinti olsun.\n",
    "- Diğer koşullarda %30 kesinti olsun.\n",
    "\n",
    "Bu durumlara göre kullanıcının yeni maaşını yazdıralım."
   ]
  },
  {
   "cell_type": "code",
   "execution_count": null,
   "id": "a6da3ea9",
   "metadata": {},
   "outputs": [],
   "source": [
    "a = int(input(\"Maaşınızı Giriniz : \"))\n",
    "if a <= 10000 : \n",
    "    a = a - (a*5/100)\n",
    "elif a <= 25000 :\n",
    "    a = a - (a*10/100)\n",
    "elif a <= 45000 :\n",
    "    a = a - (a*25/100)\n",
    "else :\n",
    "    a = a - (a*30/100)\n",
    "print (\"Yeni Maaşınız : \" , a)"
   ]
  },
  {
   "cell_type": "markdown",
   "id": "77370310",
   "metadata": {},
   "source": [
    "# 2\n",
    "Kullanıcıdan kullanıcı adı ve şifre oluşturmasını isteyin. Şifrenin uzunluğu altı haneye ulaşmışsa hesabınız oluşturuldu mesajı alsın, altı haneden azsa altı haneli şifre oluşturması gerektiğinin mesajını alsın.(Sadece koşul kullanmanız yeterli.)"
   ]
  },
  {
   "cell_type": "code",
   "execution_count": 1,
   "id": "61ddc038",
   "metadata": {},
   "outputs": [
    {
     "name": "stdout",
     "output_type": "stream",
     "text": [
      "Kullanıcı Adı Giriniz : melisaturan\n",
      "Şifre Giriniz : 12345\n",
      "6 Haneli Şifre Oluşturunuz.\n"
     ]
    }
   ],
   "source": [
    "kullanici = input(\"Kullanıcı Adı Giriniz : \")\n",
    "sifre = input(\"Şifre Giriniz : \")\n",
    "if len(sifre) < 6:\n",
    "    print(\"6 Haneli Şifre Oluşturunuz.\")\n",
    "else:\n",
    "    print(\"Hesabınız Oluşturulmuştur.\")"
   ]
  },
  {
   "cell_type": "markdown",
   "id": "fd529538",
   "metadata": {},
   "source": [
    "# 3\n",
    "Bir önceki örneği geliştiriyoruz. \n",
    "\n",
    "- Kullanıcı girdiği şifre 5 ve 10 hane arasında olmak zorunda olsun. \n",
    "- Eğer bu koşula uyuyorsa \"Hesabınız oluşturuldu.\" mesajı alsın\n",
    "- Koşulu sağlamıyorsa \"Lütfen girdiniz şifre 5 haneden az 1 haneden fazla olmasın!\" uyarısı alsın.\n",
    "- Bunu oluştururken kullanıcı istediğimiz şartlarda şifre oluşturuna kadar sormaya devam etsin."
   ]
  },
  {
   "cell_type": "code",
   "execution_count": null,
   "id": "b882e6f9",
   "metadata": {},
   "outputs": [],
   "source": [
    "while True : \n",
    "    kullanici = input(\"Kullanıcı Adı Giriniz : \")\n",
    "    sifre = input(\"Şifre Giriniz : \")\n",
    "    if len(sifre) > 5 and len(sifre) < 10:\n",
    "        print(\"Hesabınız Oluşturulmuştur.\")\n",
    "        break\n",
    "    else: \n",
    "        print(\"Lütfen girdiğiniz şifre 5 haneden az 10 haneden fazla olmasın.\")\n",
    "        pass"
   ]
  },
  {
   "cell_type": "markdown",
   "id": "2fd0417d",
   "metadata": {},
   "source": [
    "# 4\n",
    "- Kullanıcıdan isim ve şifre isteyeceğiz ve şifre girişi için üç hak vereceğiz. \n",
    "- Eğer önceden tanımlı şifre ile kullanıdan gelen şifre aynıysa \"Giriş yapıldı.\" yazsın. \n",
    "- Şifre girişi yanlışşa \"Yanlış şifre girildi!\" uyarısı verilsin ve üç yanlış denemede program bitsin.\n",
    "- Tercihe göre kalan hak bilgisi verilsin"
   ]
  },
  {
   "cell_type": "code",
   "execution_count": null,
   "id": "41d69a99",
   "metadata": {},
   "outputs": [],
   "source": [
    "sifre = \"123\"\n",
    "kalan = 3\n",
    "for i in range(3):\n",
    "    parola = input(\"Lütfen parolanızı giriniz: \")\n",
    "    if sifre == parola:\n",
    "        print(\"Girişiniz yapıldı.\")\n",
    "        break\n",
    "    else:\n",
    "        kalan = kalan - 1 \n",
    "        print(\"Yanlış şifre girildi! \\nKalan Hakkınız : \",kalan)\n",
    "        pass "
   ]
  }
 ],
 "metadata": {
  "kernelspec": {
   "display_name": "Python 3 (ipykernel)",
   "language": "python",
   "name": "python3"
  },
  "language_info": {
   "codemirror_mode": {
    "name": "ipython",
    "version": 3
   },
   "file_extension": ".py",
   "mimetype": "text/x-python",
   "name": "python",
   "nbconvert_exporter": "python",
   "pygments_lexer": "ipython3",
   "version": "3.11.4"
  }
 },
 "nbformat": 4,
 "nbformat_minor": 5
}
