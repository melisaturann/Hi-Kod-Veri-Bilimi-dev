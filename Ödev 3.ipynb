{
 "cells": [
  {
   "cell_type": "markdown",
   "id": "1a3877fb",
   "metadata": {},
   "source": [
    "#### Kullanıcıdan pi değeri ve yarıçap bilgisi alarak dairenin alanını hesaplayan bir fonksiyon oluşturulur.\n",
    "\n",
    "\n"
   ]
  },
  {
   "cell_type": "code",
   "execution_count": null,
   "id": "5774f9be",
   "metadata": {},
   "outputs": [],
   "source": [
    "def daire_alani(pi,r):\n",
    "    pi = float(input(\"Pi değerini giriniz : \"))\n",
    "    r = float(input(\"Yarıçap değerini giriniz : \"))\n",
    "    sonuc = pi * r * r\n",
    "    return sonuc\n",
    "print(\"Dairenin alanı = {} \".format(daire_alani(pi,r)))"
   ]
  },
  {
   "cell_type": "markdown",
   "id": "f0c6a18b",
   "metadata": {},
   "source": [
    "#### Faktöriyel adında fonksiyon oluşturulur. Döngü kullanarak parametre olarak girilen sayının faktöriyeli hesaplanır. Format metodunu kullanılarak ekrana yazdırılır.\n"
   ]
  },
  {
   "cell_type": "code",
   "execution_count": null,
   "id": "5ea553ae",
   "metadata": {},
   "outputs": [],
   "source": [
    "def faktoriyel(a):\n",
    "    b = 1\n",
    "    for i in range(1, a+1):\n",
    "        b *= i\n",
    "    return b\n",
    "a = int(input(\"Faktöriyelini hesaplamak istediğiniz sayı : \"))\n",
    "print (\"Girmiş olduğunuz sayının faktöriyeli = {} \". format(faktoriyel(a)))"
   ]
  },
  {
   "cell_type": "markdown",
   "id": "bf63a0fa",
   "metadata": {},
   "source": [
    "#### Kişinin fonksiyona doğum yılını vererek kaç yaşında olduğunu hesaplayan bir fonksiyon oluşturun. "
   ]
  },
  {
   "cell_type": "code",
   "execution_count": null,
   "id": "a13b7813",
   "metadata": {},
   "outputs": [],
   "source": [
    "import datetime\n",
    "def yas(yil):\n",
    "    an = datetime.datetime.now()\n",
    "    sonuc = an.year - yil\n",
    "    return sonuc\n",
    "yil = int(input(\"Doğum Yılınızı Giriniz : \"))\n",
    "print(\"Yaşınız : {}\".format(yas(yil)))"
   ]
  },
  {
   "cell_type": "markdown",
   "id": "4244ad8a",
   "metadata": {},
   "source": [
    "#### Doğum yılı ve isim bilgisi verilen fonksiyon kişinin emekli olup olmadığını söylesin.(Kişi 65 yaşında ise emekli olur.) Burada yaş hesabını yukarıdaki örnekteki fonksiyonu kullanarak yapsın.(Yani fonksiyon içinde fonksiyon kullanmanızı istiyorum :)) Kişi 65 yaşında ya da daha fazlaysa \"Emekli oldunuz\" yanıtını, 65 yaşından küçükse emekliliğine kaç yıl kaldığını da hesaplayarak \"(isim) emekliliğine (yıl) kaldı.\" yanıtını versin."
   ]
  },
  {
   "cell_type": "code",
   "execution_count": null,
   "id": "6885e7c6",
   "metadata": {},
   "outputs": [],
   "source": [
    "import datetime\n",
    "def yas(yil):\n",
    "    an = datetime.datetime.now()\n",
    "    sonuc = an.year - yil\n",
    "    return sonuc\n",
    "\n",
    "def emeklilik(isim, dogum_yili):\n",
    "    yas = yas_hesabi(dogum_yili)\n",
    "    if yas >= 65:\n",
    "        print(\"Emekli oldunuz.\")\n",
    "    else:\n",
    "        kalan_yil = 65 - yas\n",
    "        print(f\"{isim} emekliliğine {kalan_yil} yıl kaldı.\")\n",
    "\n",
    "dogum_yili = int(input(\"Doğum yılınızı girin: \"))\n",
    "isim = input(\"Adınızı giriniz: \")\n",
    "emeklilik(isim, dogum_yili)"
   ]
  }
 ],
 "metadata": {
  "kernelspec": {
   "display_name": "Python 3 (ipykernel)",
   "language": "python",
   "name": "python3"
  },
  "language_info": {
   "codemirror_mode": {
    "name": "ipython",
    "version": 3
   },
   "file_extension": ".py",
   "mimetype": "text/x-python",
   "name": "python",
   "nbconvert_exporter": "python",
   "pygments_lexer": "ipython3",
   "version": "3.11.4"
  }
 },
 "nbformat": 4,
 "nbformat_minor": 5
}
